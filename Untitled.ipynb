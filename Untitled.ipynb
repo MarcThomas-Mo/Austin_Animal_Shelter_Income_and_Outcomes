{
 "cells": [
  {
   "cell_type": "code",
   "execution_count": null,
   "metadata": {},
   "outputs": [],
   "source": [
    "# Import dependencies\n",
    "import pandas as pd\n",
    "from sqlalchemy import create_engine"
   ]
  },
  {
   "cell_type": "code",
   "execution_count": null,
   "metadata": {},
   "outputs": [],
   "source": [
    "# Load intake csv and convert to a dataframe\n",
    "intake_df = pd.read_csv('Resources/Austin_Animal_Center_Intakes.csv')\n",
    "intake_df.head()\n",
    "\n",
    "#kaggle datasets download -d aaronschlegel/austin-animal-center-shelter-intakes-and-outcomes"
   ]
  },
  {
   "cell_type": "code",
   "execution_count": null,
   "metadata": {},
   "outputs": [],
   "source": [
    "# Update dataframe with only columns we care about \n",
    "intake_df = intake_df[['Animal ID','Name','DateTime','Intake Type','Intake Condition','Animal Type','Age upon Intake','Breed','Color']]\n",
    "intake_df.head()"
   ]
  },
  {
   "cell_type": "code",
   "execution_count": null,
   "metadata": {},
   "outputs": [],
   "source": [
    "# Rename columns so that they are easier to use in postgres\n",
    "intake_df = intake_df.rename(columns ={'Animal ID': 'id',\n",
    "             'Name': 'intake_name',\n",
    "             'DateTime': 'intake_date',\n",
    "             'Intake Type': 'intake_type',\n",
    "             'Intake Condition': 'intake_condition',\n",
    "             'Animal Type': 'animal_type',\n",
    "             'Age upon Intake' :'intake_age',\n",
    "             'Breed': 'breed',\n",
    "             'Color': 'color'\n",
    "             })\n",
    "intake_df.head()"
   ]
  },
  {
   "cell_type": "code",
   "execution_count": null,
   "metadata": {},
   "outputs": [],
   "source": [
    "#Rename columns so that they are easier to use in postgres\n",
    "outcomes_df = pd.read_csv('Resources/Austin_Animal_Center_Outcomes.csv')\n",
    "outcomes_df.head()"
   ]
  },
  {
   "cell_type": "code",
   "execution_count": null,
   "metadata": {},
   "outputs": [],
   "source": [
    "# Update dataframe with columns we care about \n",
    "outcomes_df= outcomes_df [['Animal ID','Name','DateTime','Outcome Type','Age upon Outcome']]\n",
    "outcomes_df.head()"
   ]
  },
  {
   "cell_type": "code",
   "execution_count": null,
   "metadata": {},
   "outputs": [],
   "source": [
    "# Change names of columns so that they are easier to use with postgres\n",
    "outcomes_df = outcomes_df.rename(columns ={'Animal ID': 'id',\n",
    "                                         'Name' : 'outcome_name',\n",
    "                                         'DateTime': 'outcome_date',\n",
    "                                        'Outcome Type': 'outcome_type',\n",
    "                                         'Age upon Outcome':'outcome_age'})\n",
    "outcomes_df.head()"
   ]
  },
  {
   "cell_type": "code",
   "execution_count": null,
   "metadata": {},
   "outputs": [],
   "source": [
    "# Connect to local postgres db\n",
    "rds_connection_string = \"postgres:<PASSWORD>@localhost:5432/Austin_Animal_Shelter\"\n",
    "engine = create_engine(f'postgresql://{rds_connection_string}')"
   ]
  },
  {
   "cell_type": "code",
   "execution_count": null,
   "metadata": {},
   "outputs": [],
   "source": [
    "# Check that we have connected to appropriate db\n",
    "engine.table_names()"
   ]
  },
  {
   "cell_type": "code",
   "execution_count": null,
   "metadata": {},
   "outputs": [],
   "source": [
    "# Load transformed intake data to postgres\n",
    "intake_df.to_sql(name = 'intakes', con = engine, if_exists='append', index =False)"
   ]
  },
  {
   "cell_type": "code",
   "execution_count": null,
   "metadata": {},
   "outputs": [],
   "source": [
    "# Load transformed outcome data to postgres\n",
    "outcomes_df.to_sql(name = 'outcomes' , con = engine, if_exists ='append', index = False)"
   ]
  },
  {
   "cell_type": "code",
   "execution_count": null,
   "metadata": {},
   "outputs": [],
   "source": [
    "# Convert intake dates to datetime format and get only the date\n",
    "intake_df['intake_date'] = pd.to_datetime(intake_df['intake_date'])\n",
    "intake_df['only_date'] = [d.date() for d in intake_df['intake_date']]\n",
    "# Convert only date to string\n",
    "intake_df['only_date'] = intake_df['only_date'].astype('str')\n",
    "# Look for animals that have been in the shelter this year \n",
    "intake_2019 = intake_df.loc[intake_df['only_date'] >= '2019-01-01']\n",
    "intake_2019"
   ]
  },
  {
   "cell_type": "code",
   "execution_count": null,
   "metadata": {},
   "outputs": [],
   "source": [
    "# Convert outcome dates to datetime formate and get only the date\n",
    "outcomes_df['outcome_date'] = pd.to_datetime(outcomes_df['outcome_date'])\n",
    "outcomes_df['only_date'] = [d.date() for d in outcomes_df['outcome_date']]\n",
    "#Convert only date to string\n",
    "outcomes_df['only_date'] = outcomes_df['only_date'].astype('str')\n",
    "# Look for animals that have left the shelter this year \n",
    "outcomes_2019 = outcomes_df.loc[outcomes_df['only_date'] >= '2019-01-01']\n",
    "outcomes_2019"
   ]
  },
  {
   "cell_type": "code",
   "execution_count": null,
   "metadata": {},
   "outputs": [],
   "source": [
    "# Select relevant columns and add to Postgres\n",
    "intake_2019 = intake_2019[['id','intake_name','intake_date','intake_type','intake_condition','animal_type','intake_age','breed','color']]\n",
    "outcomes_2019 = outcomes_2019[['id','outcome_name','outcome_date','outcome_type','outcome_age']]\n",
    "intake_2019.to_sql(name='intakes_2019', con=engine,if_exists='append',index=False)\n",
    "outcomes_2019.to_sql(name='outcomes_2019', con=engine,if_exists='append',index=False)"
   ]
  },
  {
   "cell_type": "code",
   "execution_count": null,
   "metadata": {},
   "outputs": [],
   "source": [
    "# Confirm join worked\n",
    "joined_data.loc[joined_data['id'] == 'A784533']"
   ]
  },
  {
   "cell_type": "code",
   "execution_count": null,
   "metadata": {},
   "outputs": [],
   "source": [
    "bymontyrcat = pd.read_sql_query(\"select substring(intake_date, 7,4) as Yr,\\\n",
    "\tsubstring(intake_date, 1,2) as Month,\\\n",
    "\tanimal_type,\\\n",
    "\tcount(*) intakes \\\n",
    "from intakes \\\n",
    "group by substring(intake_date, 7, 4),\\\n",
    "\tsubstring(intake_date, 1,2),\\\n",
    "\tanimal_type \\\n",
    "\torder by substring(intake_date, 7,4),\\\n",
    "\tsubstring(intake_date, 1,2) ,\\\n",
    "\tanimal_type and animal_type = 'Cat'\", con=engine)\n",
    "bymontyr.head()"
   ]
  },
  {
   "cell_type": "code",
   "execution_count": null,
   "metadata": {},
   "outputs": [],
   "source": [
    "bymontyr.set_index('animal_type')"
   ]
  },
  {
   "cell_type": "code",
   "execution_count": null,
   "metadata": {},
   "outputs": [],
   "source": [
    "bymontyr.plot.line( legend = True, figsize = (20,7))"
   ]
  }
 ],
 "metadata": {
  "kernelspec": {
   "display_name": "Python 3",
   "language": "python",
   "name": "python3"
  },
  "language_info": {
   "codemirror_mode": {
    "name": "ipython",
    "version": 3
   },
   "file_extension": ".py",
   "mimetype": "text/x-python",
   "name": "python",
   "nbconvert_exporter": "python",
   "pygments_lexer": "ipython3",
   "version": "3.7.3"
  }
 },
 "nbformat": 4,
 "nbformat_minor": 2
}
